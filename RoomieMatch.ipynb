{
  "nbformat": 4,
  "nbformat_minor": 0,
  "metadata": {
    "colab": {
      "provenance": []
    },
    "kernelspec": {
      "name": "python3",
      "display_name": "Python 3"
    },
    "language_info": {
      "name": "python"
    }
  },
  "cells": [
    {
      "cell_type": "code",
      "source": [
        "from google.colab import files\n",
        "uploaded = files.upload()"
      ],
      "metadata": {
        "colab": {
          "base_uri": "https://localhost:8080/",
          "height": 73
        },
        "id": "F69-0rNDXuzW",
        "outputId": "7bff945d-38a4-4ef8-fd64-2e817889c402"
      },
      "execution_count": null,
      "outputs": [
        {
          "output_type": "display_data",
          "data": {
            "text/plain": [
              "<IPython.core.display.HTML object>"
            ],
            "text/html": [
              "\n",
              "     <input type=\"file\" id=\"files-2f83885a-5c19-4522-8b16-2e49559a26ac\" name=\"files[]\" multiple disabled\n",
              "        style=\"border:none\" />\n",
              "     <output id=\"result-2f83885a-5c19-4522-8b16-2e49559a26ac\">\n",
              "      Upload widget is only available when the cell has been executed in the\n",
              "      current browser session. Please rerun this cell to enable.\n",
              "      </output>\n",
              "      <script>// Copyright 2017 Google LLC\n",
              "//\n",
              "// Licensed under the Apache License, Version 2.0 (the \"License\");\n",
              "// you may not use this file except in compliance with the License.\n",
              "// You may obtain a copy of the License at\n",
              "//\n",
              "//      http://www.apache.org/licenses/LICENSE-2.0\n",
              "//\n",
              "// Unless required by applicable law or agreed to in writing, software\n",
              "// distributed under the License is distributed on an \"AS IS\" BASIS,\n",
              "// WITHOUT WARRANTIES OR CONDITIONS OF ANY KIND, either express or implied.\n",
              "// See the License for the specific language governing permissions and\n",
              "// limitations under the License.\n",
              "\n",
              "/**\n",
              " * @fileoverview Helpers for google.colab Python module.\n",
              " */\n",
              "(function(scope) {\n",
              "function span(text, styleAttributes = {}) {\n",
              "  const element = document.createElement('span');\n",
              "  element.textContent = text;\n",
              "  for (const key of Object.keys(styleAttributes)) {\n",
              "    element.style[key] = styleAttributes[key];\n",
              "  }\n",
              "  return element;\n",
              "}\n",
              "\n",
              "// Max number of bytes which will be uploaded at a time.\n",
              "const MAX_PAYLOAD_SIZE = 100 * 1024;\n",
              "\n",
              "function _uploadFiles(inputId, outputId) {\n",
              "  const steps = uploadFilesStep(inputId, outputId);\n",
              "  const outputElement = document.getElementById(outputId);\n",
              "  // Cache steps on the outputElement to make it available for the next call\n",
              "  // to uploadFilesContinue from Python.\n",
              "  outputElement.steps = steps;\n",
              "\n",
              "  return _uploadFilesContinue(outputId);\n",
              "}\n",
              "\n",
              "// This is roughly an async generator (not supported in the browser yet),\n",
              "// where there are multiple asynchronous steps and the Python side is going\n",
              "// to poll for completion of each step.\n",
              "// This uses a Promise to block the python side on completion of each step,\n",
              "// then passes the result of the previous step as the input to the next step.\n",
              "function _uploadFilesContinue(outputId) {\n",
              "  const outputElement = document.getElementById(outputId);\n",
              "  const steps = outputElement.steps;\n",
              "\n",
              "  const next = steps.next(outputElement.lastPromiseValue);\n",
              "  return Promise.resolve(next.value.promise).then((value) => {\n",
              "    // Cache the last promise value to make it available to the next\n",
              "    // step of the generator.\n",
              "    outputElement.lastPromiseValue = value;\n",
              "    return next.value.response;\n",
              "  });\n",
              "}\n",
              "\n",
              "/**\n",
              " * Generator function which is called between each async step of the upload\n",
              " * process.\n",
              " * @param {string} inputId Element ID of the input file picker element.\n",
              " * @param {string} outputId Element ID of the output display.\n",
              " * @return {!Iterable<!Object>} Iterable of next steps.\n",
              " */\n",
              "function* uploadFilesStep(inputId, outputId) {\n",
              "  const inputElement = document.getElementById(inputId);\n",
              "  inputElement.disabled = false;\n",
              "\n",
              "  const outputElement = document.getElementById(outputId);\n",
              "  outputElement.innerHTML = '';\n",
              "\n",
              "  const pickedPromise = new Promise((resolve) => {\n",
              "    inputElement.addEventListener('change', (e) => {\n",
              "      resolve(e.target.files);\n",
              "    });\n",
              "  });\n",
              "\n",
              "  const cancel = document.createElement('button');\n",
              "  inputElement.parentElement.appendChild(cancel);\n",
              "  cancel.textContent = 'Cancel upload';\n",
              "  const cancelPromise = new Promise((resolve) => {\n",
              "    cancel.onclick = () => {\n",
              "      resolve(null);\n",
              "    };\n",
              "  });\n",
              "\n",
              "  // Wait for the user to pick the files.\n",
              "  const files = yield {\n",
              "    promise: Promise.race([pickedPromise, cancelPromise]),\n",
              "    response: {\n",
              "      action: 'starting',\n",
              "    }\n",
              "  };\n",
              "\n",
              "  cancel.remove();\n",
              "\n",
              "  // Disable the input element since further picks are not allowed.\n",
              "  inputElement.disabled = true;\n",
              "\n",
              "  if (!files) {\n",
              "    return {\n",
              "      response: {\n",
              "        action: 'complete',\n",
              "      }\n",
              "    };\n",
              "  }\n",
              "\n",
              "  for (const file of files) {\n",
              "    const li = document.createElement('li');\n",
              "    li.append(span(file.name, {fontWeight: 'bold'}));\n",
              "    li.append(span(\n",
              "        `(${file.type || 'n/a'}) - ${file.size} bytes, ` +\n",
              "        `last modified: ${\n",
              "            file.lastModifiedDate ? file.lastModifiedDate.toLocaleDateString() :\n",
              "                                    'n/a'} - `));\n",
              "    const percent = span('0% done');\n",
              "    li.appendChild(percent);\n",
              "\n",
              "    outputElement.appendChild(li);\n",
              "\n",
              "    const fileDataPromise = new Promise((resolve) => {\n",
              "      const reader = new FileReader();\n",
              "      reader.onload = (e) => {\n",
              "        resolve(e.target.result);\n",
              "      };\n",
              "      reader.readAsArrayBuffer(file);\n",
              "    });\n",
              "    // Wait for the data to be ready.\n",
              "    let fileData = yield {\n",
              "      promise: fileDataPromise,\n",
              "      response: {\n",
              "        action: 'continue',\n",
              "      }\n",
              "    };\n",
              "\n",
              "    // Use a chunked sending to avoid message size limits. See b/62115660.\n",
              "    let position = 0;\n",
              "    do {\n",
              "      const length = Math.min(fileData.byteLength - position, MAX_PAYLOAD_SIZE);\n",
              "      const chunk = new Uint8Array(fileData, position, length);\n",
              "      position += length;\n",
              "\n",
              "      const base64 = btoa(String.fromCharCode.apply(null, chunk));\n",
              "      yield {\n",
              "        response: {\n",
              "          action: 'append',\n",
              "          file: file.name,\n",
              "          data: base64,\n",
              "        },\n",
              "      };\n",
              "\n",
              "      let percentDone = fileData.byteLength === 0 ?\n",
              "          100 :\n",
              "          Math.round((position / fileData.byteLength) * 100);\n",
              "      percent.textContent = `${percentDone}% done`;\n",
              "\n",
              "    } while (position < fileData.byteLength);\n",
              "  }\n",
              "\n",
              "  // All done.\n",
              "  yield {\n",
              "    response: {\n",
              "      action: 'complete',\n",
              "    }\n",
              "  };\n",
              "}\n",
              "\n",
              "scope.google = scope.google || {};\n",
              "scope.google.colab = scope.google.colab || {};\n",
              "scope.google.colab._files = {\n",
              "  _uploadFiles,\n",
              "  _uploadFilesContinue,\n",
              "};\n",
              "})(self);\n",
              "</script> "
            ]
          },
          "metadata": {}
        },
        {
          "output_type": "stream",
          "name": "stdout",
          "text": [
            "Saving RoomieMatch.db to RoomieMatch (1).db\n"
          ]
        }
      ]
    },
    {
      "cell_type": "code",
      "source": [
        "import shutil\n",
        "shutil.move(\"RoomieMatch.db\", \"/content/RoomieMatch.db\")"
      ],
      "metadata": {
        "colab": {
          "base_uri": "https://localhost:8080/",
          "height": 35
        },
        "id": "_AluFne9XzjM",
        "outputId": "a4b55095-8b21-44d7-aab8-8a210f870c2b"
      },
      "execution_count": null,
      "outputs": [
        {
          "output_type": "execute_result",
          "data": {
            "text/plain": [
              "'/content/RoomieMatch.db'"
            ],
            "application/vnd.google.colaboratory.intrinsic+json": {
              "type": "string"
            }
          },
          "metadata": {},
          "execution_count": 2
        }
      ]
    },
    {
      "cell_type": "code",
      "execution_count": null,
      "metadata": {
        "id": "EDZmTssl6rRG"
      },
      "outputs": [],
      "source": [
        "import sqlite3"
      ]
    },
    {
      "cell_type": "code",
      "source": [
        "# Connect to the database\n",
        "connection = sqlite3.connect(\"/content/RoomieMatch.db\")"
      ],
      "metadata": {
        "id": "LwmsjX5q7Ah-"
      },
      "execution_count": null,
      "outputs": []
    },
    {
      "cell_type": "code",
      "source": [
        "cursor = connection.cursor()"
      ],
      "metadata": {
        "id": "CsWqPdmo7eHw"
      },
      "execution_count": null,
      "outputs": []
    },
    {
      "cell_type": "code",
      "source": [
        "cursor.execute(\"SELECT name FROM sqlite_master WHERE type='table';\")\n",
        "print(cursor.fetchall())"
      ],
      "metadata": {
        "colab": {
          "base_uri": "https://localhost:8080/"
        },
        "id": "MNsl0fwPTFIi",
        "outputId": "e4c6f2b2-0bd4-4cb9-e06d-7071c71237b4"
      },
      "execution_count": null,
      "outputs": [
        {
          "output_type": "stream",
          "name": "stdout",
          "text": [
            "[('sqlite_sequence',), ('user_hobbies',), ('hobbies',), ('roommate_profiles',)]\n"
          ]
        }
      ]
    },
    {
      "cell_type": "code",
      "source": [
        "# Adding test users\n",
        "cursor.execute(\"\"\"\n",
        "    INSERT INTO roommate_profiles (\n",
        "        firstname, lastname, case_email, gender, gender_preference, housing, year, major, major_preference,\n",
        "        clean, quiet, sleep, greek_life, guests, language, cook, smoke, against_smoker, drink, against_drinker,\n",
        "        pets, against_pet, politics, politics_preference, religion,\n",
        "        religion_preference, bio\n",
        "    ) VALUES (?, ?, ?, ?, ?, ?, ?, ?, ?, ?, ?, ?, ?, ?, ?, ?, ?, ?, ?, ?, ?, ?, ?, ?, ?, ?, ?)\n",
        "\"\"\", (\n",
        "    'Haley', 'Smith', 'haleysmith@case.edu', 'Female', 'Female', 'Off-Campus', 'Incoming Upperclassman',\n",
        "    'Arts & Sciences', 'No Preference', 'Very Clean', 'Very Quiet', 'Before 10PM', 'Yes', '3-4 times/week', 'Spanish', 'Everyday', 'No', 'No',\n",
        "    'No', 'No', 'None', 'No', 'Liberal', 'Liberal', 'Atheism/Agnosticism', 'Atheism/Agnosticism',\n",
        "    'Looking for a responsible and quiet roommate.'\n",
        "))"
      ],
      "metadata": {
        "colab": {
          "base_uri": "https://localhost:8080/"
        },
        "id": "r7hT3fBuAk_c",
        "outputId": "9cd3d0ad-2c78-4114-bc06-3eeb8739e73c"
      },
      "execution_count": null,
      "outputs": [
        {
          "output_type": "execute_result",
          "data": {
            "text/plain": [
              "<sqlite3.Cursor at 0x7e50c6917a40>"
            ]
          },
          "metadata": {},
          "execution_count": 10
        }
      ]
    },
    {
      "cell_type": "code",
      "source": [
        "cursor.execute(\"\"\"\n",
        "    INSERT INTO roommate_profiles (\n",
        "        firstname, lastname, case_email, gender, gender_preference, housing, year, major, major_preference,\n",
        "        clean, quiet, sleep, greek_life, guests, language, cook, smoke, against_smoker, drink, against_drinker,\n",
        "        pets, against_pet, politics, politics_preference, religion,\n",
        "        religion_preference, bio\n",
        "    ) VALUES (?, ?, ?, ?, ?, ?, ?, ?, ?, ?, ?, ?, ?, ?, ?, ?, ?, ?, ?, ?, ?, ?, ?, ?, ?, ?, ?)\n",
        "\"\"\", (\n",
        "    'Mia', 'Cay', 'miacay@case.edu', 'Female', 'Female', 'Off-Campus', 'Incoming Upperclassman',\n",
        "    'Arts & Sciences', 'No Preference', 'Somewhat Clean', 'Very Quiet', 'Before 10PM', 'Yes', '3-4 times/week', 'English', 'Everyday', 'No', 'No',\n",
        "    'No', 'No', 'None', 'No', 'Liberal', 'Liberal', 'Judaism', 'No Preference',\n",
        "    'Want a roommate that knows how to throw a party.'\n",
        "))"
      ],
      "metadata": {
        "colab": {
          "base_uri": "https://localhost:8080/"
        },
        "id": "J0kHL6SJ8Ykc",
        "outputId": "8c12a26a-0542-44db-e840-fdd7de4481ed"
      },
      "execution_count": null,
      "outputs": [
        {
          "output_type": "execute_result",
          "data": {
            "text/plain": [
              "<sqlite3.Cursor at 0x7e50c6917a40>"
            ]
          },
          "metadata": {},
          "execution_count": 11
        }
      ]
    },
    {
      "cell_type": "code",
      "source": [
        "cursor.execute(\"\"\"\n",
        "    INSERT INTO roommate_profiles (\n",
        "        firstname, lastname, case_email, gender, gender_preference, housing, year, major, major_preference,\n",
        "        clean, quiet, sleep, greek_life, guests, language, cook, smoke, against_smoker, drink, against_drinker,\n",
        "        pets, against_pet, politics, politics_preference, religion,\n",
        "        religion_preference, bio\n",
        "    ) VALUES (?, ?, ?, ?, ?, ?, ?, ?, ?, ?, ?, ?, ?, ?, ?, ?, ?, ?, ?, ?, ?, ?, ?, ?, ?, ?, ?)\n",
        "\"\"\", (\n",
        "    'Joel', 'Grant', 'joelgrant@case.edu', 'Male', 'Female', 'Off-Campus', 'Incoming Upperclassman',\n",
        "    'Engineering', 'No Preference', 'Somewhat Clean', 'Very Quiet', '12AM - 2AM', 'No', '3-4 times/week', 'English', 'Everyday', 'No', 'No',\n",
        "    'No', 'No', 'None', 'No', 'Liberal', 'Liberal', 'Christianity', 'No Preference',\n",
        "    'Just vibin.'\n",
        "))"
      ],
      "metadata": {
        "colab": {
          "base_uri": "https://localhost:8080/"
        },
        "id": "h2c0aDhCZvQ7",
        "outputId": "0ee5d1b6-1f9b-4b1d-cda8-c8fd92d1e498"
      },
      "execution_count": null,
      "outputs": [
        {
          "output_type": "execute_result",
          "data": {
            "text/plain": [
              "<sqlite3.Cursor at 0x78b3d692d6c0>"
            ]
          },
          "metadata": {},
          "execution_count": 25
        }
      ]
    },
    {
      "cell_type": "code",
      "source": [
        "cursor.execute(\"\"\"INSERT INTO user_hobbies (userID, hobbyID)\n",
        "VALUES\n",
        "    (1, (SELECT hobbyID FROM hobbies WHERE hobby = 'Cooking')),\n",
        "    (1, (SELECT hobbyID FROM hobbies WHERE hobby = 'Traveling')),\n",
        "    (2, (SELECT hobbyID FROM hobbies WHERE hobby = 'Cooking')),\n",
        "    (2, (SELECT hobbyID FROM hobbies WHERE hobby = 'Reading'));\n",
        "\"\"\")"
      ],
      "metadata": {
        "colab": {
          "base_uri": "https://localhost:8080/"
        },
        "id": "C-yoYSTS5Kly",
        "outputId": "674e510c-431a-4e36-be49-6f5d01e89910"
      },
      "execution_count": null,
      "outputs": [
        {
          "output_type": "execute_result",
          "data": {
            "text/plain": [
              "<sqlite3.Cursor at 0x7e50c6917a40>"
            ]
          },
          "metadata": {},
          "execution_count": 12
        }
      ]
    },
    {
      "cell_type": "code",
      "source": [
        "connection.commit()"
      ],
      "metadata": {
        "id": "Bye_YD3I-knX"
      },
      "execution_count": null,
      "outputs": []
    },
    {
      "cell_type": "code",
      "source": [
        "cursor.execute(\"SELECT * FROM roommate_profiles\")"
      ],
      "metadata": {
        "colab": {
          "base_uri": "https://localhost:8080/"
        },
        "id": "ug6bHAQwZO2z",
        "outputId": "ac927541-da54-476d-a797-f72cfd9f220b"
      },
      "execution_count": null,
      "outputs": [
        {
          "output_type": "execute_result",
          "data": {
            "text/plain": [
              "<sqlite3.Cursor at 0x7e50c6917a40>"
            ]
          },
          "metadata": {},
          "execution_count": 26
        }
      ]
    },
    {
      "cell_type": "code",
      "source": [
        "# Prints each row of the roommate_profiles table\n",
        "for i in cursor.fetchall():\n",
        "  print(i)"
      ],
      "metadata": {
        "colab": {
          "base_uri": "https://localhost:8080/"
        },
        "id": "YPbPVuKwZTAf",
        "outputId": "26dd51e6-fba7-4a01-e1b2-4bf95a9bfb4a"
      },
      "execution_count": null,
      "outputs": [
        {
          "output_type": "stream",
          "name": "stdout",
          "text": [
            "(1, 'Haley', 'Smith', 'haleysmith@case.edu', 'Female', 'Female', 'Off-Campus', 'Incoming Upperclassman', 'Arts & Sciences', 'No Preference', 'Very Clean', 'Very Quiet', 'Before 10PM', 'Yes', '3-4 times/week', 'Spanish', 'Everyday', 'No', 'No', 'No', 'No', 'None', 'No', 'Liberal', 'Liberal', 'Atheism/Agnosticism', 'Atheism/Agnosticism', 'Looking for a responsible and quiet roommate.')\n",
            "(2, 'Mia', 'Cay', 'miacay@case.edu', 'Female', 'Female', 'Off-Campus', 'Incoming Upperclassman', 'Arts & Sciences', 'No Preference', 'Somewhat Clean', 'Very Quiet', 'Before 10PM', 'Yes', '3-4 times/week', 'English', 'Everyday', 'No', 'No', 'No', 'No', 'None', 'No', 'Liberal', 'Liberal', 'Judaism', 'No Preference', 'Want a roommate that knows how to throw a party.')\n"
          ]
        }
      ]
    },
    {
      "cell_type": "code",
      "source": [
        "cursor.execute(\"PRAGMA foreign_keys = ON\")"
      ],
      "metadata": {
        "colab": {
          "base_uri": "https://localhost:8080/"
        },
        "id": "JTlJPbCj6oCA",
        "outputId": "7b3bdfbd-af43-4ec7-8b48-7edecac52941"
      },
      "execution_count": null,
      "outputs": [
        {
          "output_type": "execute_result",
          "data": {
            "text/plain": [
              "<sqlite3.Cursor at 0x7e50c6917a40>"
            ]
          },
          "metadata": {},
          "execution_count": 28
        }
      ]
    },
    {
      "cell_type": "code",
      "source": [
        "cursor.execute(\"SELECT * FROM user_hobbies\")"
      ],
      "metadata": {
        "colab": {
          "base_uri": "https://localhost:8080/"
        },
        "id": "qSWJCj9f6TLt",
        "outputId": "6a4a288b-29dd-484e-8945-e766b9f10e4f"
      },
      "execution_count": null,
      "outputs": [
        {
          "output_type": "execute_result",
          "data": {
            "text/plain": [
              "<sqlite3.Cursor at 0x7e50c6917a40>"
            ]
          },
          "metadata": {},
          "execution_count": 29
        }
      ]
    },
    {
      "cell_type": "code",
      "source": [
        "for i in cursor.fetchall():\n",
        "  print(i)"
      ],
      "metadata": {
        "colab": {
          "base_uri": "https://localhost:8080/"
        },
        "id": "PJLgyfr76Vi6",
        "outputId": "c975e494-f603-4d86-b345-30e5da6b7f1e"
      },
      "execution_count": null,
      "outputs": [
        {
          "output_type": "stream",
          "name": "stdout",
          "text": [
            "(1, 4)\n",
            "(1, 6)\n",
            "(2, 4)\n",
            "(2, 5)\n"
          ]
        }
      ]
    },
    {
      "cell_type": "code",
      "source": [
        "connection.close()"
      ],
      "metadata": {
        "id": "gEo1pqyAVTQJ"
      },
      "execution_count": null,
      "outputs": []
    },
    {
      "cell_type": "code",
      "source": [
        "files.download(\"/content/RoomieMatch.db\")"
      ],
      "metadata": {
        "colab": {
          "base_uri": "https://localhost:8080/",
          "height": 17
        },
        "id": "R2QnkCrGYIeq",
        "outputId": "7c5abf07-17d7-43a7-c4ae-0974f781117a"
      },
      "execution_count": null,
      "outputs": [
        {
          "output_type": "display_data",
          "data": {
            "text/plain": [
              "<IPython.core.display.Javascript object>"
            ],
            "application/javascript": [
              "\n",
              "    async function download(id, filename, size) {\n",
              "      if (!google.colab.kernel.accessAllowed) {\n",
              "        return;\n",
              "      }\n",
              "      const div = document.createElement('div');\n",
              "      const label = document.createElement('label');\n",
              "      label.textContent = `Downloading \"${filename}\": `;\n",
              "      div.appendChild(label);\n",
              "      const progress = document.createElement('progress');\n",
              "      progress.max = size;\n",
              "      div.appendChild(progress);\n",
              "      document.body.appendChild(div);\n",
              "\n",
              "      const buffers = [];\n",
              "      let downloaded = 0;\n",
              "\n",
              "      const channel = await google.colab.kernel.comms.open(id);\n",
              "      // Send a message to notify the kernel that we're ready.\n",
              "      channel.send({})\n",
              "\n",
              "      for await (const message of channel.messages) {\n",
              "        // Send a message to notify the kernel that we're ready.\n",
              "        channel.send({})\n",
              "        if (message.buffers) {\n",
              "          for (const buffer of message.buffers) {\n",
              "            buffers.push(buffer);\n",
              "            downloaded += buffer.byteLength;\n",
              "            progress.value = downloaded;\n",
              "          }\n",
              "        }\n",
              "      }\n",
              "      const blob = new Blob(buffers, {type: 'application/binary'});\n",
              "      const a = document.createElement('a');\n",
              "      a.href = window.URL.createObjectURL(blob);\n",
              "      a.download = filename;\n",
              "      div.appendChild(a);\n",
              "      a.click();\n",
              "      div.remove();\n",
              "    }\n",
              "  "
            ]
          },
          "metadata": {}
        },
        {
          "output_type": "display_data",
          "data": {
            "text/plain": [
              "<IPython.core.display.Javascript object>"
            ],
            "application/javascript": [
              "download(\"download_2e8bd2be-5e84-42eb-adf8-a87ea0001288\", \"RoomieMatch.db\", 32768)"
            ]
          },
          "metadata": {}
        }
      ]
    },
    {
      "cell_type": "code",
      "source": [
        "import pandas as pd\n",
        "import numpy as np"
      ],
      "metadata": {
        "id": "25759bxt9lnj"
      },
      "execution_count": null,
      "outputs": []
    },
    {
      "cell_type": "code",
      "source": [
        "# Function to retrieve users from the database\n",
        "def get_users_from_db():\n",
        "    connection = sqlite3.connect(\"/content/RoomieMatch.db\")\n",
        "    cursor = connection.cursor()\n",
        "\n",
        "    cursor.execute(\"SELECT * FROM roommate_profiles\")\n",
        "\n",
        "    # Get column names\n",
        "    columns = [desc[0] for desc in cursor.description]\n",
        "\n",
        "    # Convert rows to dictionaries\n",
        "    users = [dict(zip(columns, row)) for row in cursor.fetchall()]\n",
        "\n",
        "    connection.close()\n",
        "    return users"
      ],
      "metadata": {
        "id": "JKRDvwz6_S9U"
      },
      "execution_count": null,
      "outputs": []
    },
    {
      "cell_type": "code",
      "source": [
        "# Function to get users and their hobbies\n",
        "def get_user_hobbies_from_db():\n",
        "    \"\"\"Retrieve user hobbies from the hobbies junction table and return as a dictionary.\"\"\"\n",
        "    query = \"SELECT a.userID, b.hobby FROM user_hobbies a INNER JOIN hobbies b on a.hobbyID = b.hobbyID\"\n",
        "    connection = sqlite3.connect(\"/content/RoomieMatch.db\")\n",
        "    cursor = connection.cursor()\n",
        "\n",
        "    results = cursor.execute(query)\n",
        "    user_hobbies = {}\n",
        "\n",
        "    for userID, hobby in results:\n",
        "        if userID not in user_hobbies:\n",
        "            user_hobbies[userID] = set()\n",
        "        user_hobbies[userID].add(hobby)\n",
        "\n",
        "    return user_hobbies"
      ],
      "metadata": {
        "id": "u0zYz6Bmn_UP"
      },
      "execution_count": null,
      "outputs": []
    },
    {
      "cell_type": "code",
      "source": [
        "get_user_hobbies_from_db()"
      ],
      "metadata": {
        "colab": {
          "base_uri": "https://localhost:8080/"
        },
        "id": "ClOVJqkzoeRt",
        "outputId": "1fe2365a-9a40-411c-92a2-5f93dd55e92b"
      },
      "execution_count": null,
      "outputs": [
        {
          "output_type": "execute_result",
          "data": {
            "text/plain": [
              "{1: {'Cooking', 'Traveling'}, 2: {'Cooking', 'Reading'}}"
            ]
          },
          "metadata": {},
          "execution_count": 22
        }
      ]
    },
    {
      "cell_type": "code",
      "source": [
        "import itertools\n",
        "\n",
        "# Basic matching roommate algorithm\n",
        "def match_roommates(users):\n",
        "    matches = []\n",
        "\n",
        "    # Get hobbies from the junction table\n",
        "    user_hobbies = get_user_hobbies_from_db()\n",
        "\n",
        "    for user1, user2 in itertools.combinations(users, 2):\n",
        "        # Must Match Criteria\n",
        "        if user1['gender_preference'] != 'No Preference' and user1['gender_preference'] != user2['gender']:\n",
        "            continue\n",
        "        if user2['gender_preference'] != 'No Preference' and user2['gender_preference'] != user1['gender']:\n",
        "            continue\n",
        "        if user1['housing'] != user2['housing']:\n",
        "            continue\n",
        "        if user1['housing'] == 'On-Campus' and user1['year'] != user2['year']:\n",
        "            continue\n",
        "        if user1['against_smoker'] == 'Yes' and user2['smoke'] == 'Yes':\n",
        "            continue\n",
        "        if user2['against_smoker'] == 'Yes' and user1['smoke'] == 'Yes':\n",
        "            continue\n",
        "        if user1['against_drinker'] == 'Yes' and user2['drink'] == 'Yes':\n",
        "            continue\n",
        "        if user2['against_drinker'] == 'Yes' and user1['drink'] == 'Yes':\n",
        "            continue\n",
        "        if user1['against_pet'] == 'Yes' and user2['pets'] != 'None':\n",
        "            continue\n",
        "        if user2['against_pet'] == 'Yes' and user1['pets'] != 'None':\n",
        "            continue\n",
        "\n",
        "        score = 0\n",
        "\n",
        "        # Dissimilarity scoring\n",
        "        distance = 0\n",
        "\n",
        "        # Preferences with dissimilarity scale (0-3 based on distance)\n",
        "        distance += abs(['Very Messy', 'Somewhat Messy', 'Somewhat Clean', 'Very Clean'].index(user1['clean']) -\n",
        "                          ['Very Messy', 'Somewhat Messy', 'Somewhat Clean', 'Very Clean'].index(user2['clean']))\n",
        "        distance += abs(['Very Loud', 'Somewhat Loud', 'Somewhat Quiet', 'Very Quiet'].index(user1['quiet']) -\n",
        "                          ['Very Loud', 'Somewhat Loud', 'Somewhat Quiet', 'Very Quiet'].index(user2['quiet']))\n",
        "        distance +=  abs(['Before 10PM','11PM - 12AM', '12AM - 2AM','2AM or Later'].index(user1['sleep']) -\n",
        "                          ['Before 10PM','11PM - 12AM', '12AM - 2AM','2AM or Later'].index(user2['sleep']))\n",
        "        distance +=  abs(['Never', '1-2 times/week', '3-4 times/week', 'Everyday'].index(user1['guests']) -\n",
        "                          ['Never', '1-2 times/week', '3-4 times/week', 'Everyday'].index(user2['guests']))\n",
        "        distance +=  abs(['Never', '1-2 times/week', '3-4 times/week', 'Everyday'].index(user1['cook']) -\n",
        "                          ['Never', '1-2 times/week', '3-4 times/week', 'Everyday'].index(user2['cook']))\n",
        "\n",
        "        # Black-and-white preference distances (0 point if match; 1 point if no match)\n",
        "        if user1['major_preference'] != 'No Preference' and user1['major_preference'] != user2['major']:\n",
        "            score += 1\n",
        "        if user2['major_preference'] != 'No Preference' and user2['major_preference'] != user1['major']:\n",
        "            score += 1\n",
        "        if user1['politics_preference'] != 'No Preference' and user1['politics_preference'] != user2['politics']:\n",
        "            score += 1\n",
        "        if user2['politics_preference'] != 'No Preference' and user2['politics_preference'] != user1['politics']:\n",
        "            score += 1\n",
        "        if user1['religion_preference'] != 'No Preference' and user1['religion_preference'] != user2['religion']:\n",
        "            score += 1\n",
        "        if user2['religion_preference'] != 'No Preference' and user2['religion_preference'] != user1['religion']:\n",
        "            score += 1\n",
        "        if user1['greek_life'] != user2['greek_life']:\n",
        "            score += 1\n",
        "        if user1['language'] != user2['language']:\n",
        "            score += 1\n",
        "\n",
        "        # Default hobbies score (starting at 0, add for mismatches)\n",
        "        hobbies_score = 0\n",
        "\n",
        "        # Retrieve hobbies from the dictionary\n",
        "        user1_hobbies = user_hobbies.get(user1['userID'], set())\n",
        "        user2_hobbies = user_hobbies.get(user2['userID'], set())\n",
        "\n",
        "        hobbies_score = len(user1_hobbies.symmetric_difference(user2_hobbies))\n",
        "\n",
        "        # Add hobbies dissimilarity score to total distance score\n",
        "        score += distance + hobbies_score\n",
        "\n",
        "        matches.append((user1['userID'], user2['userID'], score))\n",
        "\n",
        "    # Sort matches by ascending score (closest users first)\n",
        "    matches.sort(key=lambda x: x[2], reverse=False)\n",
        "    return matches"
      ],
      "metadata": {
        "id": "qpA5jb0C9lqp"
      },
      "execution_count": null,
      "outputs": []
    },
    {
      "cell_type": "code",
      "source": [
        "# Get users from the database\n",
        "users = get_users_from_db()\n",
        "\n",
        "# Call function with all users\n",
        "matched_pairs = match_roommates(users)\n",
        "\n",
        "# Print results (lower distance score = higher compatibility score = better match)\n",
        "for match in matched_pairs:\n",
        "    adjusted_score = 100 - match[2]  # Convert distance score to compatibility score\n",
        "    print(f\"Match User {match[0]} with User {match[1]} - Combatibility Score: {adjusted_score}\")"
      ],
      "metadata": {
        "colab": {
          "base_uri": "https://localhost:8080/"
        },
        "id": "iIFaKlzS-4gc",
        "outputId": "a09d2394-ee4d-4784-c0da-51eeadb40136"
      },
      "execution_count": null,
      "outputs": [
        {
          "output_type": "stream",
          "name": "stdout",
          "text": [
            "Match: User 1 with User 2 - Combatibility Score: 95\n"
          ]
        }
      ]
    }
  ]
}